{
  "nbformat": 4,
  "nbformat_minor": 0,
  "metadata": {
    "colab": {
      "name": "Imagenette.ipynb",
      "provenance": []
    },
    "kernelspec": {
      "name": "python3",
      "display_name": "Python 3"
    }
  },
  "cells": [
    {
      "cell_type": "code",
      "metadata": {
        "id": "e2FgrFQEbe8o",
        "colab_type": "code",
        "colab": {
          "base_uri": "https://localhost:8080/",
          "height": 204
        },
        "outputId": "e3c41b0e-dd90-42f9-9a31-35556285c579"
      },
      "source": [
        " ! wget https://s3.amazonaws.com/fast-ai-imageclas/imagenette2.tgz"
      ],
      "execution_count": 1,
      "outputs": [
        {
          "output_type": "stream",
          "text": [
            "--2020-08-03 07:48:48--  https://s3.amazonaws.com/fast-ai-imageclas/imagenette2.tgz\n",
            "Resolving s3.amazonaws.com (s3.amazonaws.com)... 52.216.163.21\n",
            "Connecting to s3.amazonaws.com (s3.amazonaws.com)|52.216.163.21|:443... connected.\n",
            "HTTP request sent, awaiting response... 200 OK\n",
            "Length: 1556914727 (1.4G) [application/x-tar]\n",
            "Saving to: ‘imagenette2.tgz’\n",
            "\n",
            "imagenette2.tgz     100%[===================>]   1.45G  71.8MB/s    in 23s     \n",
            "\n",
            "2020-08-03 07:49:11 (64.9 MB/s) - ‘imagenette2.tgz’ saved [1556914727/1556914727]\n",
            "\n"
          ],
          "name": "stdout"
        }
      ]
    },
    {
      "cell_type": "code",
      "metadata": {
        "id": "mWq12QqVbpwg",
        "colab_type": "code",
        "colab": {}
      },
      "source": [
        "! tar -xf imagenette2.tgz"
      ],
      "execution_count": 2,
      "outputs": []
    },
    {
      "cell_type": "code",
      "metadata": {
        "id": "scszsRgDb7Ep",
        "colab_type": "code",
        "colab": {}
      },
      "source": [
        "imagenette_map = { \n",
        "    \"n01440764\" : \"tench\",\n",
        "    \"n02102040\" : \"springer\",\n",
        "    \"n02979186\" : \"casette_player\",\n",
        "    \"n03000684\" : \"chain_saw\",\n",
        "    \"n03028079\" : \"church\",\n",
        "    \"n03394916\" : \"French_horn\",\n",
        "    \"n03417042\" : \"garbage_truck\",\n",
        "    \"n03425413\" : \"gas_pump\",\n",
        "    \"n03445777\" : \"golf_ball\",\n",
        "    \"n03888257\" : \"parachute\"\n",
        "}"
      ],
      "execution_count": 3,
      "outputs": []
    },
    {
      "cell_type": "code",
      "metadata": {
        "id": "cpDBj7BxccqO",
        "colab_type": "code",
        "colab": {
          "base_uri": "https://localhost:8080/",
          "height": 34
        },
        "outputId": "884fe541-3662-4a29-f440-d9e1064641bf"
      },
      "source": [
        "from tensorflow.keras.models import Sequential\n",
        "from tensorflow.keras.layers import Dense, Conv2D, MaxPool2D, Flatten, Dropout, BatchNormalization, InputLayer\n",
        "import numpy as np\n",
        "from tensorflow.keras.utils import to_categorical\n",
        "from keras.preprocessing.image import ImageDataGenerator"
      ],
      "execution_count": 4,
      "outputs": [
        {
          "output_type": "stream",
          "text": [
            "Using TensorFlow backend.\n"
          ],
          "name": "stderr"
        }
      ]
    },
    {
      "cell_type": "code",
      "metadata": {
        "id": "iKYV_EIafRML",
        "colab_type": "code",
        "colab": {
          "base_uri": "https://localhost:8080/",
          "height": 51
        },
        "outputId": "03073245-de43-4ac4-bf93-8c6ab911e6da"
      },
      "source": [
        "imagegen = ImageDataGenerator()\n",
        "train = imagegen.flow_from_directory(\"imagenette2/train/\", class_mode = \"categorical\", shuffle=False, batch_size = 128, target_size=(224, 224))\n",
        "val = imagegen.flow_from_directory(\"imagenette2/val/\", class_mode = \"categorical\", shuffle=False, batch_size = 128, target_size=(224, 224))\n"
      ],
      "execution_count": 5,
      "outputs": [
        {
          "output_type": "stream",
          "text": [
            "Found 9469 images belonging to 10 classes.\n",
            "Found 3925 images belonging to 10 classes.\n"
          ],
          "name": "stdout"
        }
      ]
    },
    {
      "cell_type": "code",
      "metadata": {
        "id": "tgjxK6thgX4U",
        "colab_type": "code",
        "colab": {}
      },
      "source": [
        "model = Sequential()\n",
        "model.add(InputLayer(input_shape=(224, 224, 3)))"
      ],
      "execution_count": 6,
      "outputs": []
    },
    {
      "cell_type": "code",
      "metadata": {
        "id": "zfTlMbo-gkSy",
        "colab_type": "code",
        "colab": {}
      },
      "source": [
        "# 1st conv block\n",
        "model.add(Conv2D(25, kernel_size=(5, 5), activation='relu', strides=(1, 1), padding='same'))\n",
        "model.add(MaxPool2D(pool_size=(2, 2), padding='same'))\n",
        "# 2nd conv block\n",
        "model.add(Conv2D(50, kernel_size=(5, 5), activation='relu', strides=(2, 2), padding='same'))\n",
        "model.add(MaxPool2D(pool_size=(2, 2), padding='same'))\n",
        "model.add(BatchNormalization())\n",
        "# 3rd conv block\n",
        "model.add(Conv2D(70, kernel_size=(3, 3), activation='relu', strides=(2, 2), padding='same'))\n",
        "model.add(MaxPool2D(pool_size=(2, 2), padding='valid'))\n",
        "model.add(BatchNormalization())\n",
        "# ANN block\n",
        "model.add(Flatten())\n",
        "model.add(Dense(units=100, activation='relu'))\n",
        "model.add(Dense(units=100, activation='relu'))\n",
        "model.add(Dropout(0.25))\n",
        "# output layer\n",
        "model.add(Dense(units=10, activation='softmax'))"
      ],
      "execution_count": 7,
      "outputs": []
    },
    {
      "cell_type": "code",
      "metadata": {
        "id": "NqnVmctiiDuU",
        "colab_type": "code",
        "colab": {}
      },
      "source": [
        "model.compile(loss='categorical_crossentropy', optimizer=\"adam\", metrics=['accuracy'])"
      ],
      "execution_count": 8,
      "outputs": []
    },
    {
      "cell_type": "code",
      "metadata": {
        "id": "7Q0K3DUhiJ54",
        "colab_type": "code",
        "colab": {
          "base_uri": "https://localhost:8080/",
          "height": 306
        },
        "outputId": "e4662e4c-9f32-410c-89f5-f7967c82fc9b"
      },
      "source": [
        "model.fit_generator(train, epochs=30, validation_data=val)"
      ],
      "execution_count": null,
      "outputs": [
        {
          "output_type": "error",
          "ename": "KeyboardInterrupt",
          "evalue": "ignored",
          "traceback": [
            "\u001b[0;31m---------------------------------------------------------------------------\u001b[0m",
            "\u001b[0;31mKeyboardInterrupt\u001b[0m                         Traceback (most recent call last)",
            "\u001b[0;32m<ipython-input-16-cfa8ecddac7c>\u001b[0m in \u001b[0;36m<module>\u001b[0;34m()\u001b[0m\n\u001b[0;32m----> 1\u001b[0;31m \u001b[0mmodel\u001b[0m\u001b[0;34m.\u001b[0m\u001b[0mfit_generator\u001b[0m\u001b[0;34m(\u001b[0m\u001b[0mtrain\u001b[0m\u001b[0;34m,\u001b[0m \u001b[0mepochs\u001b[0m\u001b[0;34m=\u001b[0m\u001b[0;36m30\u001b[0m\u001b[0;34m,\u001b[0m \u001b[0mvalidation_data\u001b[0m\u001b[0;34m=\u001b[0m\u001b[0mval\u001b[0m\u001b[0;34m)\u001b[0m\u001b[0;34m\u001b[0m\u001b[0;34m\u001b[0m\u001b[0m\n\u001b[0m",
            "\u001b[0;32m/usr/local/lib/python3.6/dist-packages/tensorflow/python/util/deprecation.py\u001b[0m in \u001b[0;36mnew_func\u001b[0;34m(*args, **kwargs)\u001b[0m\n\u001b[1;32m    322\u001b[0m               \u001b[0;34m'in a future version'\u001b[0m \u001b[0;32mif\u001b[0m \u001b[0mdate\u001b[0m \u001b[0;32mis\u001b[0m \u001b[0;32mNone\u001b[0m \u001b[0;32melse\u001b[0m \u001b[0;34m(\u001b[0m\u001b[0;34m'after %s'\u001b[0m \u001b[0;34m%\u001b[0m \u001b[0mdate\u001b[0m\u001b[0;34m)\u001b[0m\u001b[0;34m,\u001b[0m\u001b[0;34m\u001b[0m\u001b[0;34m\u001b[0m\u001b[0m\n\u001b[1;32m    323\u001b[0m               instructions)\n\u001b[0;32m--> 324\u001b[0;31m       \u001b[0;32mreturn\u001b[0m \u001b[0mfunc\u001b[0m\u001b[0;34m(\u001b[0m\u001b[0;34m*\u001b[0m\u001b[0margs\u001b[0m\u001b[0;34m,\u001b[0m \u001b[0;34m**\u001b[0m\u001b[0mkwargs\u001b[0m\u001b[0;34m)\u001b[0m\u001b[0;34m\u001b[0m\u001b[0;34m\u001b[0m\u001b[0m\n\u001b[0m\u001b[1;32m    325\u001b[0m     return tf_decorator.make_decorator(\n\u001b[1;32m    326\u001b[0m         \u001b[0mfunc\u001b[0m\u001b[0;34m,\u001b[0m \u001b[0mnew_func\u001b[0m\u001b[0;34m,\u001b[0m \u001b[0;34m'deprecated'\u001b[0m\u001b[0;34m,\u001b[0m\u001b[0;34m\u001b[0m\u001b[0;34m\u001b[0m\u001b[0m\n",
            "\u001b[0;32m/usr/local/lib/python3.6/dist-packages/tensorflow/python/keras/engine/training.py\u001b[0m in \u001b[0;36mfit_generator\u001b[0;34m(self, generator, steps_per_epoch, epochs, verbose, callbacks, validation_data, validation_steps, validation_freq, class_weight, max_queue_size, workers, use_multiprocessing, shuffle, initial_epoch)\u001b[0m\n\u001b[1;32m   1477\u001b[0m         \u001b[0muse_multiprocessing\u001b[0m\u001b[0;34m=\u001b[0m\u001b[0muse_multiprocessing\u001b[0m\u001b[0;34m,\u001b[0m\u001b[0;34m\u001b[0m\u001b[0;34m\u001b[0m\u001b[0m\n\u001b[1;32m   1478\u001b[0m         \u001b[0mshuffle\u001b[0m\u001b[0;34m=\u001b[0m\u001b[0mshuffle\u001b[0m\u001b[0;34m,\u001b[0m\u001b[0;34m\u001b[0m\u001b[0;34m\u001b[0m\u001b[0m\n\u001b[0;32m-> 1479\u001b[0;31m         initial_epoch=initial_epoch)\n\u001b[0m\u001b[1;32m   1480\u001b[0m \u001b[0;34m\u001b[0m\u001b[0m\n\u001b[1;32m   1481\u001b[0m   @deprecation.deprecated(\n",
            "\u001b[0;32m/usr/local/lib/python3.6/dist-packages/tensorflow/python/keras/engine/training.py\u001b[0m in \u001b[0;36m_method_wrapper\u001b[0;34m(self, *args, **kwargs)\u001b[0m\n\u001b[1;32m     64\u001b[0m   \u001b[0;32mdef\u001b[0m \u001b[0m_method_wrapper\u001b[0m\u001b[0;34m(\u001b[0m\u001b[0mself\u001b[0m\u001b[0;34m,\u001b[0m \u001b[0;34m*\u001b[0m\u001b[0margs\u001b[0m\u001b[0;34m,\u001b[0m \u001b[0;34m**\u001b[0m\u001b[0mkwargs\u001b[0m\u001b[0;34m)\u001b[0m\u001b[0;34m:\u001b[0m\u001b[0;34m\u001b[0m\u001b[0;34m\u001b[0m\u001b[0m\n\u001b[1;32m     65\u001b[0m     \u001b[0;32mif\u001b[0m \u001b[0;32mnot\u001b[0m \u001b[0mself\u001b[0m\u001b[0;34m.\u001b[0m\u001b[0m_in_multi_worker_mode\u001b[0m\u001b[0;34m(\u001b[0m\u001b[0;34m)\u001b[0m\u001b[0;34m:\u001b[0m  \u001b[0;31m# pylint: disable=protected-access\u001b[0m\u001b[0;34m\u001b[0m\u001b[0;34m\u001b[0m\u001b[0m\n\u001b[0;32m---> 66\u001b[0;31m       \u001b[0;32mreturn\u001b[0m \u001b[0mmethod\u001b[0m\u001b[0;34m(\u001b[0m\u001b[0mself\u001b[0m\u001b[0;34m,\u001b[0m \u001b[0;34m*\u001b[0m\u001b[0margs\u001b[0m\u001b[0;34m,\u001b[0m \u001b[0;34m**\u001b[0m\u001b[0mkwargs\u001b[0m\u001b[0;34m)\u001b[0m\u001b[0;34m\u001b[0m\u001b[0;34m\u001b[0m\u001b[0m\n\u001b[0m\u001b[1;32m     67\u001b[0m \u001b[0;34m\u001b[0m\u001b[0m\n\u001b[1;32m     68\u001b[0m     \u001b[0;31m# Running inside `run_distribute_coordinator` already.\u001b[0m\u001b[0;34m\u001b[0m\u001b[0;34m\u001b[0m\u001b[0;34m\u001b[0m\u001b[0m\n",
            "\u001b[0;32m/usr/local/lib/python3.6/dist-packages/tensorflow/python/keras/engine/training.py\u001b[0m in \u001b[0;36mfit\u001b[0;34m(self, x, y, batch_size, epochs, verbose, callbacks, validation_split, validation_data, shuffle, class_weight, sample_weight, initial_epoch, steps_per_epoch, validation_steps, validation_batch_size, validation_freq, max_queue_size, workers, use_multiprocessing)\u001b[0m\n\u001b[1;32m    846\u001b[0m                 batch_size=batch_size):\n\u001b[1;32m    847\u001b[0m               \u001b[0mcallbacks\u001b[0m\u001b[0;34m.\u001b[0m\u001b[0mon_train_batch_begin\u001b[0m\u001b[0;34m(\u001b[0m\u001b[0mstep\u001b[0m\u001b[0;34m)\u001b[0m\u001b[0;34m\u001b[0m\u001b[0;34m\u001b[0m\u001b[0m\n\u001b[0;32m--> 848\u001b[0;31m               \u001b[0mtmp_logs\u001b[0m \u001b[0;34m=\u001b[0m \u001b[0mtrain_function\u001b[0m\u001b[0;34m(\u001b[0m\u001b[0miterator\u001b[0m\u001b[0;34m)\u001b[0m\u001b[0;34m\u001b[0m\u001b[0;34m\u001b[0m\u001b[0m\n\u001b[0m\u001b[1;32m    849\u001b[0m               \u001b[0;31m# Catch OutOfRangeError for Datasets of unknown size.\u001b[0m\u001b[0;34m\u001b[0m\u001b[0;34m\u001b[0m\u001b[0;34m\u001b[0m\u001b[0m\n\u001b[1;32m    850\u001b[0m               \u001b[0;31m# This blocks until the batch has finished executing.\u001b[0m\u001b[0;34m\u001b[0m\u001b[0;34m\u001b[0m\u001b[0;34m\u001b[0m\u001b[0m\n",
            "\u001b[0;32m/usr/local/lib/python3.6/dist-packages/tensorflow/python/eager/def_function.py\u001b[0m in \u001b[0;36m__call__\u001b[0;34m(self, *args, **kwds)\u001b[0m\n\u001b[1;32m    578\u001b[0m         \u001b[0mxla_context\u001b[0m\u001b[0;34m.\u001b[0m\u001b[0mExit\u001b[0m\u001b[0;34m(\u001b[0m\u001b[0;34m)\u001b[0m\u001b[0;34m\u001b[0m\u001b[0;34m\u001b[0m\u001b[0m\n\u001b[1;32m    579\u001b[0m     \u001b[0;32melse\u001b[0m\u001b[0;34m:\u001b[0m\u001b[0;34m\u001b[0m\u001b[0;34m\u001b[0m\u001b[0m\n\u001b[0;32m--> 580\u001b[0;31m       \u001b[0mresult\u001b[0m \u001b[0;34m=\u001b[0m \u001b[0mself\u001b[0m\u001b[0;34m.\u001b[0m\u001b[0m_call\u001b[0m\u001b[0;34m(\u001b[0m\u001b[0;34m*\u001b[0m\u001b[0margs\u001b[0m\u001b[0;34m,\u001b[0m \u001b[0;34m**\u001b[0m\u001b[0mkwds\u001b[0m\u001b[0;34m)\u001b[0m\u001b[0;34m\u001b[0m\u001b[0;34m\u001b[0m\u001b[0m\n\u001b[0m\u001b[1;32m    581\u001b[0m \u001b[0;34m\u001b[0m\u001b[0m\n\u001b[1;32m    582\u001b[0m     \u001b[0;32mif\u001b[0m \u001b[0mtracing_count\u001b[0m \u001b[0;34m==\u001b[0m \u001b[0mself\u001b[0m\u001b[0;34m.\u001b[0m\u001b[0m_get_tracing_count\u001b[0m\u001b[0;34m(\u001b[0m\u001b[0;34m)\u001b[0m\u001b[0;34m:\u001b[0m\u001b[0;34m\u001b[0m\u001b[0;34m\u001b[0m\u001b[0m\n",
            "\u001b[0;32m/usr/local/lib/python3.6/dist-packages/tensorflow/python/eager/def_function.py\u001b[0m in \u001b[0;36m_call\u001b[0;34m(self, *args, **kwds)\u001b[0m\n\u001b[1;32m    609\u001b[0m       \u001b[0;31m# In this case we have created variables on the first call, so we run the\u001b[0m\u001b[0;34m\u001b[0m\u001b[0;34m\u001b[0m\u001b[0;34m\u001b[0m\u001b[0m\n\u001b[1;32m    610\u001b[0m       \u001b[0;31m# defunned version which is guaranteed to never create variables.\u001b[0m\u001b[0;34m\u001b[0m\u001b[0;34m\u001b[0m\u001b[0;34m\u001b[0m\u001b[0m\n\u001b[0;32m--> 611\u001b[0;31m       \u001b[0;32mreturn\u001b[0m \u001b[0mself\u001b[0m\u001b[0;34m.\u001b[0m\u001b[0m_stateless_fn\u001b[0m\u001b[0;34m(\u001b[0m\u001b[0;34m*\u001b[0m\u001b[0margs\u001b[0m\u001b[0;34m,\u001b[0m \u001b[0;34m**\u001b[0m\u001b[0mkwds\u001b[0m\u001b[0;34m)\u001b[0m  \u001b[0;31m# pylint: disable=not-callable\u001b[0m\u001b[0;34m\u001b[0m\u001b[0;34m\u001b[0m\u001b[0m\n\u001b[0m\u001b[1;32m    612\u001b[0m     \u001b[0;32melif\u001b[0m \u001b[0mself\u001b[0m\u001b[0;34m.\u001b[0m\u001b[0m_stateful_fn\u001b[0m \u001b[0;32mis\u001b[0m \u001b[0;32mnot\u001b[0m \u001b[0;32mNone\u001b[0m\u001b[0;34m:\u001b[0m\u001b[0;34m\u001b[0m\u001b[0;34m\u001b[0m\u001b[0m\n\u001b[1;32m    613\u001b[0m       \u001b[0;31m# Release the lock early so that multiple threads can perform the call\u001b[0m\u001b[0;34m\u001b[0m\u001b[0;34m\u001b[0m\u001b[0;34m\u001b[0m\u001b[0m\n",
            "\u001b[0;32m/usr/local/lib/python3.6/dist-packages/tensorflow/python/eager/function.py\u001b[0m in \u001b[0;36m__call__\u001b[0;34m(self, *args, **kwargs)\u001b[0m\n\u001b[1;32m   2418\u001b[0m     \u001b[0;32mwith\u001b[0m \u001b[0mself\u001b[0m\u001b[0;34m.\u001b[0m\u001b[0m_lock\u001b[0m\u001b[0;34m:\u001b[0m\u001b[0;34m\u001b[0m\u001b[0;34m\u001b[0m\u001b[0m\n\u001b[1;32m   2419\u001b[0m       \u001b[0mgraph_function\u001b[0m\u001b[0;34m,\u001b[0m \u001b[0margs\u001b[0m\u001b[0;34m,\u001b[0m \u001b[0mkwargs\u001b[0m \u001b[0;34m=\u001b[0m \u001b[0mself\u001b[0m\u001b[0;34m.\u001b[0m\u001b[0m_maybe_define_function\u001b[0m\u001b[0;34m(\u001b[0m\u001b[0margs\u001b[0m\u001b[0;34m,\u001b[0m \u001b[0mkwargs\u001b[0m\u001b[0;34m)\u001b[0m\u001b[0;34m\u001b[0m\u001b[0;34m\u001b[0m\u001b[0m\n\u001b[0;32m-> 2420\u001b[0;31m     \u001b[0;32mreturn\u001b[0m \u001b[0mgraph_function\u001b[0m\u001b[0;34m.\u001b[0m\u001b[0m_filtered_call\u001b[0m\u001b[0;34m(\u001b[0m\u001b[0margs\u001b[0m\u001b[0;34m,\u001b[0m \u001b[0mkwargs\u001b[0m\u001b[0;34m)\u001b[0m  \u001b[0;31m# pylint: disable=protected-access\u001b[0m\u001b[0;34m\u001b[0m\u001b[0;34m\u001b[0m\u001b[0m\n\u001b[0m\u001b[1;32m   2421\u001b[0m \u001b[0;34m\u001b[0m\u001b[0m\n\u001b[1;32m   2422\u001b[0m   \u001b[0;34m@\u001b[0m\u001b[0mproperty\u001b[0m\u001b[0;34m\u001b[0m\u001b[0;34m\u001b[0m\u001b[0m\n",
            "\u001b[0;32m/usr/local/lib/python3.6/dist-packages/tensorflow/python/eager/function.py\u001b[0m in \u001b[0;36m_filtered_call\u001b[0;34m(self, args, kwargs)\u001b[0m\n\u001b[1;32m   1663\u001b[0m          if isinstance(t, (ops.Tensor,\n\u001b[1;32m   1664\u001b[0m                            resource_variable_ops.BaseResourceVariable))),\n\u001b[0;32m-> 1665\u001b[0;31m         self.captured_inputs)\n\u001b[0m\u001b[1;32m   1666\u001b[0m \u001b[0;34m\u001b[0m\u001b[0m\n\u001b[1;32m   1667\u001b[0m   \u001b[0;32mdef\u001b[0m \u001b[0m_call_flat\u001b[0m\u001b[0;34m(\u001b[0m\u001b[0mself\u001b[0m\u001b[0;34m,\u001b[0m \u001b[0margs\u001b[0m\u001b[0;34m,\u001b[0m \u001b[0mcaptured_inputs\u001b[0m\u001b[0;34m,\u001b[0m \u001b[0mcancellation_manager\u001b[0m\u001b[0;34m=\u001b[0m\u001b[0;32mNone\u001b[0m\u001b[0;34m)\u001b[0m\u001b[0;34m:\u001b[0m\u001b[0;34m\u001b[0m\u001b[0;34m\u001b[0m\u001b[0m\n",
            "\u001b[0;32m/usr/local/lib/python3.6/dist-packages/tensorflow/python/eager/function.py\u001b[0m in \u001b[0;36m_call_flat\u001b[0;34m(self, args, captured_inputs, cancellation_manager)\u001b[0m\n\u001b[1;32m   1744\u001b[0m       \u001b[0;31m# No tape is watching; skip to running the function.\u001b[0m\u001b[0;34m\u001b[0m\u001b[0;34m\u001b[0m\u001b[0;34m\u001b[0m\u001b[0m\n\u001b[1;32m   1745\u001b[0m       return self._build_call_outputs(self._inference_function.call(\n\u001b[0;32m-> 1746\u001b[0;31m           ctx, args, cancellation_manager=cancellation_manager))\n\u001b[0m\u001b[1;32m   1747\u001b[0m     forward_backward = self._select_forward_and_backward_functions(\n\u001b[1;32m   1748\u001b[0m         \u001b[0margs\u001b[0m\u001b[0;34m,\u001b[0m\u001b[0;34m\u001b[0m\u001b[0;34m\u001b[0m\u001b[0m\n",
            "\u001b[0;32m/usr/local/lib/python3.6/dist-packages/tensorflow/python/eager/function.py\u001b[0m in \u001b[0;36mcall\u001b[0;34m(self, ctx, args, cancellation_manager)\u001b[0m\n\u001b[1;32m    596\u001b[0m               \u001b[0minputs\u001b[0m\u001b[0;34m=\u001b[0m\u001b[0margs\u001b[0m\u001b[0;34m,\u001b[0m\u001b[0;34m\u001b[0m\u001b[0;34m\u001b[0m\u001b[0m\n\u001b[1;32m    597\u001b[0m               \u001b[0mattrs\u001b[0m\u001b[0;34m=\u001b[0m\u001b[0mattrs\u001b[0m\u001b[0;34m,\u001b[0m\u001b[0;34m\u001b[0m\u001b[0;34m\u001b[0m\u001b[0m\n\u001b[0;32m--> 598\u001b[0;31m               ctx=ctx)\n\u001b[0m\u001b[1;32m    599\u001b[0m         \u001b[0;32melse\u001b[0m\u001b[0;34m:\u001b[0m\u001b[0;34m\u001b[0m\u001b[0;34m\u001b[0m\u001b[0m\n\u001b[1;32m    600\u001b[0m           outputs = execute.execute_with_cancellation(\n",
            "\u001b[0;32m/usr/local/lib/python3.6/dist-packages/tensorflow/python/eager/execute.py\u001b[0m in \u001b[0;36mquick_execute\u001b[0;34m(op_name, num_outputs, inputs, attrs, ctx, name)\u001b[0m\n\u001b[1;32m     58\u001b[0m     \u001b[0mctx\u001b[0m\u001b[0;34m.\u001b[0m\u001b[0mensure_initialized\u001b[0m\u001b[0;34m(\u001b[0m\u001b[0;34m)\u001b[0m\u001b[0;34m\u001b[0m\u001b[0;34m\u001b[0m\u001b[0m\n\u001b[1;32m     59\u001b[0m     tensors = pywrap_tfe.TFE_Py_Execute(ctx._handle, device_name, op_name,\n\u001b[0;32m---> 60\u001b[0;31m                                         inputs, attrs, num_outputs)\n\u001b[0m\u001b[1;32m     61\u001b[0m   \u001b[0;32mexcept\u001b[0m \u001b[0mcore\u001b[0m\u001b[0;34m.\u001b[0m\u001b[0m_NotOkStatusException\u001b[0m \u001b[0;32mas\u001b[0m \u001b[0me\u001b[0m\u001b[0;34m:\u001b[0m\u001b[0;34m\u001b[0m\u001b[0;34m\u001b[0m\u001b[0m\n\u001b[1;32m     62\u001b[0m     \u001b[0;32mif\u001b[0m \u001b[0mname\u001b[0m \u001b[0;32mis\u001b[0m \u001b[0;32mnot\u001b[0m \u001b[0;32mNone\u001b[0m\u001b[0;34m:\u001b[0m\u001b[0;34m\u001b[0m\u001b[0;34m\u001b[0m\u001b[0m\n",
            "\u001b[0;31mKeyboardInterrupt\u001b[0m: "
          ]
        }
      ]
    },
    {
      "cell_type": "code",
      "metadata": {
        "id": "G7YB4zZliWsL",
        "colab_type": "code",
        "colab": {}
      },
      "source": [
        "from keras.applications import VGG16"
      ],
      "execution_count": 9,
      "outputs": []
    },
    {
      "cell_type": "code",
      "metadata": {
        "id": "9RCMfNE4ke6f",
        "colab_type": "code",
        "colab": {
          "base_uri": "https://localhost:8080/",
          "height": 799
        },
        "outputId": "8000d21b-7cfa-46a1-a826-2c8396d7c136"
      },
      "source": [
        "pretrained_model = VGG16(include_top=False, weights='imagenet')\n",
        "pretrained_model.summary()"
      ],
      "execution_count": 12,
      "outputs": [
        {
          "output_type": "stream",
          "text": [
            "Model: \"vgg16\"\n",
            "_________________________________________________________________\n",
            "Layer (type)                 Output Shape              Param #   \n",
            "=================================================================\n",
            "input_4 (InputLayer)         (None, None, None, 3)     0         \n",
            "_________________________________________________________________\n",
            "block1_conv1 (Conv2D)        (None, None, None, 64)    1792      \n",
            "_________________________________________________________________\n",
            "block1_conv2 (Conv2D)        (None, None, None, 64)    36928     \n",
            "_________________________________________________________________\n",
            "block1_pool (MaxPooling2D)   (None, None, None, 64)    0         \n",
            "_________________________________________________________________\n",
            "block2_conv1 (Conv2D)        (None, None, None, 128)   73856     \n",
            "_________________________________________________________________\n",
            "block2_conv2 (Conv2D)        (None, None, None, 128)   147584    \n",
            "_________________________________________________________________\n",
            "block2_pool (MaxPooling2D)   (None, None, None, 128)   0         \n",
            "_________________________________________________________________\n",
            "block3_conv1 (Conv2D)        (None, None, None, 256)   295168    \n",
            "_________________________________________________________________\n",
            "block3_conv2 (Conv2D)        (None, None, None, 256)   590080    \n",
            "_________________________________________________________________\n",
            "block3_conv3 (Conv2D)        (None, None, None, 256)   590080    \n",
            "_________________________________________________________________\n",
            "block3_pool (MaxPooling2D)   (None, None, None, 256)   0         \n",
            "_________________________________________________________________\n",
            "block4_conv1 (Conv2D)        (None, None, None, 512)   1180160   \n",
            "_________________________________________________________________\n",
            "block4_conv2 (Conv2D)        (None, None, None, 512)   2359808   \n",
            "_________________________________________________________________\n",
            "block4_conv3 (Conv2D)        (None, None, None, 512)   2359808   \n",
            "_________________________________________________________________\n",
            "block4_pool (MaxPooling2D)   (None, None, None, 512)   0         \n",
            "_________________________________________________________________\n",
            "block5_conv1 (Conv2D)        (None, None, None, 512)   2359808   \n",
            "_________________________________________________________________\n",
            "block5_conv2 (Conv2D)        (None, None, None, 512)   2359808   \n",
            "_________________________________________________________________\n",
            "block5_conv3 (Conv2D)        (None, None, None, 512)   2359808   \n",
            "_________________________________________________________________\n",
            "block5_pool (MaxPooling2D)   (None, None, None, 512)   0         \n",
            "=================================================================\n",
            "Total params: 14,714,688\n",
            "Trainable params: 14,714,688\n",
            "Non-trainable params: 0\n",
            "_________________________________________________________________\n"
          ],
          "name": "stdout"
        }
      ]
    },
    {
      "cell_type": "code",
      "metadata": {
        "id": "71NA8pBrnQRp",
        "colab_type": "code",
        "colab": {}
      },
      "source": [
        "vgg_features_train = pretrained_model.predict(train)\n"
      ],
      "execution_count": 13,
      "outputs": []
    },
    {
      "cell_type": "code",
      "metadata": {
        "id": "FUYb0onfsz0o",
        "colab_type": "code",
        "colab": {
          "base_uri": "https://localhost:8080/",
          "height": 34
        },
        "outputId": "5766f389-4181-4239-aaad-e0ab3c5931cd"
      },
      "source": [
        ""
      ],
      "execution_count": 21,
      "outputs": [
        {
          "output_type": "execute_result",
          "data": {
            "text/plain": [
              "array([0, 0, 0, ..., 9, 9, 9], dtype=int32)"
            ]
          },
          "metadata": {
            "tags": []
          },
          "execution_count": 21
        }
      ]
    },
    {
      "cell_type": "code",
      "metadata": {
        "id": "dIGus1pyn2k0",
        "colab_type": "code",
        "colab": {}
      },
      "source": [
        "vgg_features_val = pretrained_model.predict(val)"
      ],
      "execution_count": 20,
      "outputs": []
    },
    {
      "cell_type": "code",
      "metadata": {
        "id": "7DmTc3yGtQGh",
        "colab_type": "code",
        "colab": {}
      },
      "source": [
        "train_target = to_categorical(train.labels)\n",
        "val_target = to_categorical(val.labels)"
      ],
      "execution_count": 22,
      "outputs": []
    },
    {
      "cell_type": "code",
      "metadata": {
        "id": "e033E1wE2G2j",
        "colab_type": "code",
        "colab": {
          "base_uri": "https://localhost:8080/",
          "height": 1000
        },
        "outputId": "e6fb2e02-dd5a-466c-d255-e19c87755887"
      },
      "source": [
        "model2 = Sequential()\n",
        "model2.add(Flatten(input_shape=(7,7,512)))\n",
        "model2.add(Dense(100, activation='relu'))\n",
        "model2.add(Dropout(0.5))\n",
        "model2.add(BatchNormalization())\n",
        "model2.add(Dense(10, activation='softmax'))\n",
        "\n",
        "# compile the model\n",
        "model2.compile(optimizer='adam', metrics=['accuracy'], loss='categorical_crossentropy')\n",
        "\n",
        "model2.summary()\n",
        "\n",
        "# train model using features generated from VGG16 model\n",
        "model2.fit(vgg_features_train, train_target, epochs=50, batch_size=128, validation_data=(vgg_features_val, val_target))\n"
      ],
      "execution_count": 23,
      "outputs": [
        {
          "output_type": "stream",
          "text": [
            "Model: \"sequential_1\"\n",
            "_________________________________________________________________\n",
            "Layer (type)                 Output Shape              Param #   \n",
            "=================================================================\n",
            "flatten_1 (Flatten)          (None, 25088)             0         \n",
            "_________________________________________________________________\n",
            "dense_3 (Dense)              (None, 100)               2508900   \n",
            "_________________________________________________________________\n",
            "dropout_1 (Dropout)          (None, 100)               0         \n",
            "_________________________________________________________________\n",
            "batch_normalization_2 (Batch (None, 100)               400       \n",
            "_________________________________________________________________\n",
            "dense_4 (Dense)              (None, 10)                1010      \n",
            "=================================================================\n",
            "Total params: 2,510,310\n",
            "Trainable params: 2,510,110\n",
            "Non-trainable params: 200\n",
            "_________________________________________________________________\n",
            "Epoch 1/50\n",
            "74/74 [==============================] - 5s 62ms/step - loss: 0.4456 - accuracy: 0.8843 - val_loss: 0.2065 - val_accuracy: 0.9386\n",
            "Epoch 2/50\n",
            "74/74 [==============================] - 4s 59ms/step - loss: 0.1378 - accuracy: 0.9737 - val_loss: 0.1817 - val_accuracy: 0.9460\n",
            "Epoch 3/50\n",
            "74/74 [==============================] - 4s 57ms/step - loss: 0.0622 - accuracy: 0.9932 - val_loss: 0.1714 - val_accuracy: 0.9485\n",
            "Epoch 4/50\n",
            "74/74 [==============================] - 4s 58ms/step - loss: 0.0381 - accuracy: 0.9965 - val_loss: 0.1742 - val_accuracy: 0.9483\n",
            "Epoch 5/50\n",
            "74/74 [==============================] - 4s 58ms/step - loss: 0.0254 - accuracy: 0.9981 - val_loss: 0.1739 - val_accuracy: 0.9488\n",
            "Epoch 6/50\n",
            "74/74 [==============================] - 4s 60ms/step - loss: 0.0188 - accuracy: 0.9985 - val_loss: 0.1727 - val_accuracy: 0.9468\n",
            "Epoch 7/50\n",
            "74/74 [==============================] - 4s 59ms/step - loss: 0.0136 - accuracy: 0.9995 - val_loss: 0.1750 - val_accuracy: 0.9452\n",
            "Epoch 8/50\n",
            "74/74 [==============================] - 4s 58ms/step - loss: 0.0113 - accuracy: 0.9994 - val_loss: 0.1759 - val_accuracy: 0.9473\n",
            "Epoch 9/50\n",
            "74/74 [==============================] - 4s 59ms/step - loss: 0.0087 - accuracy: 0.9995 - val_loss: 0.1775 - val_accuracy: 0.9483\n",
            "Epoch 10/50\n",
            "74/74 [==============================] - 4s 59ms/step - loss: 0.0078 - accuracy: 0.9995 - val_loss: 0.1787 - val_accuracy: 0.9468\n",
            "Epoch 11/50\n",
            "74/74 [==============================] - 4s 60ms/step - loss: 0.0090 - accuracy: 0.9995 - val_loss: 0.1816 - val_accuracy: 0.9450\n",
            "Epoch 12/50\n",
            "74/74 [==============================] - 4s 60ms/step - loss: 0.0065 - accuracy: 0.9996 - val_loss: 0.1919 - val_accuracy: 0.9437\n",
            "Epoch 13/50\n",
            "74/74 [==============================] - 5s 65ms/step - loss: 0.0061 - accuracy: 0.9994 - val_loss: 0.1895 - val_accuracy: 0.9468\n",
            "Epoch 14/50\n",
            "74/74 [==============================] - 5s 68ms/step - loss: 0.0054 - accuracy: 0.9997 - val_loss: 0.1906 - val_accuracy: 0.9427\n",
            "Epoch 15/50\n",
            "74/74 [==============================] - 5s 61ms/step - loss: 0.0041 - accuracy: 0.9999 - val_loss: 0.1942 - val_accuracy: 0.9442\n",
            "Epoch 16/50\n",
            "74/74 [==============================] - 5s 62ms/step - loss: 0.0036 - accuracy: 0.9998 - val_loss: 0.1974 - val_accuracy: 0.9452\n",
            "Epoch 17/50\n",
            "74/74 [==============================] - 5s 61ms/step - loss: 0.0040 - accuracy: 0.9997 - val_loss: 0.1971 - val_accuracy: 0.9465\n",
            "Epoch 18/50\n",
            "74/74 [==============================] - 5s 62ms/step - loss: 0.0036 - accuracy: 0.9998 - val_loss: 0.1983 - val_accuracy: 0.9468\n",
            "Epoch 19/50\n",
            "74/74 [==============================] - 5s 62ms/step - loss: 0.0036 - accuracy: 0.9998 - val_loss: 0.1961 - val_accuracy: 0.9457\n",
            "Epoch 20/50\n",
            "74/74 [==============================] - 5s 61ms/step - loss: 0.0034 - accuracy: 0.9999 - val_loss: 0.2004 - val_accuracy: 0.9465\n",
            "Epoch 21/50\n",
            "74/74 [==============================] - 5s 62ms/step - loss: 0.0028 - accuracy: 1.0000 - val_loss: 0.1973 - val_accuracy: 0.9465\n",
            "Epoch 22/50\n",
            "74/74 [==============================] - 5s 65ms/step - loss: 0.0022 - accuracy: 1.0000 - val_loss: 0.2055 - val_accuracy: 0.9450\n",
            "Epoch 23/50\n",
            "74/74 [==============================] - 5s 63ms/step - loss: 0.0023 - accuracy: 0.9998 - val_loss: 0.2019 - val_accuracy: 0.9442\n",
            "Epoch 24/50\n",
            "74/74 [==============================] - 5s 63ms/step - loss: 0.0025 - accuracy: 0.9999 - val_loss: 0.2075 - val_accuracy: 0.9460\n",
            "Epoch 25/50\n",
            "74/74 [==============================] - 5s 63ms/step - loss: 0.0024 - accuracy: 0.9999 - val_loss: 0.2224 - val_accuracy: 0.9452\n",
            "Epoch 26/50\n",
            "74/74 [==============================] - 5s 62ms/step - loss: 0.0031 - accuracy: 0.9997 - val_loss: 0.1992 - val_accuracy: 0.9434\n",
            "Epoch 27/50\n",
            "74/74 [==============================] - 5s 63ms/step - loss: 0.0026 - accuracy: 0.9999 - val_loss: 0.2121 - val_accuracy: 0.9437\n",
            "Epoch 28/50\n",
            "74/74 [==============================] - 5s 62ms/step - loss: 0.0026 - accuracy: 0.9997 - val_loss: 0.2075 - val_accuracy: 0.9437\n",
            "Epoch 29/50\n",
            "74/74 [==============================] - 5s 72ms/step - loss: 0.0024 - accuracy: 0.9999 - val_loss: 0.2112 - val_accuracy: 0.9452\n",
            "Epoch 30/50\n",
            "74/74 [==============================] - 5s 72ms/step - loss: 0.0046 - accuracy: 0.9989 - val_loss: 0.2275 - val_accuracy: 0.9371\n",
            "Epoch 31/50\n",
            "74/74 [==============================] - 5s 65ms/step - loss: 0.0032 - accuracy: 0.9999 - val_loss: 0.2293 - val_accuracy: 0.9399\n",
            "Epoch 32/50\n",
            "74/74 [==============================] - 5s 61ms/step - loss: 0.0039 - accuracy: 0.9993 - val_loss: 0.2210 - val_accuracy: 0.9429\n",
            "Epoch 33/50\n",
            "74/74 [==============================] - 5s 61ms/step - loss: 0.0041 - accuracy: 0.9993 - val_loss: 0.2396 - val_accuracy: 0.9394\n",
            "Epoch 34/50\n",
            "74/74 [==============================] - 5s 63ms/step - loss: 0.0067 - accuracy: 0.9986 - val_loss: 0.2518 - val_accuracy: 0.9401\n",
            "Epoch 35/50\n",
            "74/74 [==============================] - 5s 65ms/step - loss: 0.0103 - accuracy: 0.9973 - val_loss: 0.2553 - val_accuracy: 0.9322\n",
            "Epoch 36/50\n",
            "74/74 [==============================] - 5s 63ms/step - loss: 0.0112 - accuracy: 0.9974 - val_loss: 0.2584 - val_accuracy: 0.9335\n",
            "Epoch 37/50\n",
            "74/74 [==============================] - 5s 62ms/step - loss: 0.0086 - accuracy: 0.9978 - val_loss: 0.2462 - val_accuracy: 0.9376\n",
            "Epoch 38/50\n",
            "74/74 [==============================] - 5s 62ms/step - loss: 0.0082 - accuracy: 0.9979 - val_loss: 0.2522 - val_accuracy: 0.9381\n",
            "Epoch 39/50\n",
            "74/74 [==============================] - 5s 62ms/step - loss: 0.0087 - accuracy: 0.9977 - val_loss: 0.2660 - val_accuracy: 0.9355\n",
            "Epoch 40/50\n",
            "74/74 [==============================] - 4s 60ms/step - loss: 0.0083 - accuracy: 0.9978 - val_loss: 0.2376 - val_accuracy: 0.9404\n",
            "Epoch 41/50\n",
            "74/74 [==============================] - 4s 61ms/step - loss: 0.0056 - accuracy: 0.9989 - val_loss: 0.2346 - val_accuracy: 0.9439\n",
            "Epoch 42/50\n",
            "74/74 [==============================] - 5s 62ms/step - loss: 0.0042 - accuracy: 0.9992 - val_loss: 0.2296 - val_accuracy: 0.9437\n",
            "Epoch 43/50\n",
            "74/74 [==============================] - 5s 62ms/step - loss: 0.0048 - accuracy: 0.9989 - val_loss: 0.2498 - val_accuracy: 0.9381\n",
            "Epoch 44/50\n",
            "74/74 [==============================] - 5s 67ms/step - loss: 0.0039 - accuracy: 0.9990 - val_loss: 0.2529 - val_accuracy: 0.9424\n",
            "Epoch 45/50\n",
            "74/74 [==============================] - 5s 65ms/step - loss: 0.0056 - accuracy: 0.9987 - val_loss: 0.2676 - val_accuracy: 0.9409\n",
            "Epoch 46/50\n",
            "74/74 [==============================] - 5s 61ms/step - loss: 0.0057 - accuracy: 0.9984 - val_loss: 0.2340 - val_accuracy: 0.9419\n",
            "Epoch 47/50\n",
            "74/74 [==============================] - 5s 61ms/step - loss: 0.0061 - accuracy: 0.9985 - val_loss: 0.2332 - val_accuracy: 0.9422\n",
            "Epoch 48/50\n",
            "74/74 [==============================] - 5s 61ms/step - loss: 0.0045 - accuracy: 0.9988 - val_loss: 0.2319 - val_accuracy: 0.9442\n",
            "Epoch 49/50\n",
            "74/74 [==============================] - 5s 61ms/step - loss: 0.0044 - accuracy: 0.9989 - val_loss: 0.2298 - val_accuracy: 0.9450\n",
            "Epoch 50/50\n",
            "74/74 [==============================] - 4s 60ms/step - loss: 0.0044 - accuracy: 0.9987 - val_loss: 0.2475 - val_accuracy: 0.9404\n"
          ],
          "name": "stdout"
        },
        {
          "output_type": "execute_result",
          "data": {
            "text/plain": [
              "<tensorflow.python.keras.callbacks.History at 0x7f0d34d2a9e8>"
            ]
          },
          "metadata": {
            "tags": []
          },
          "execution_count": 23
        }
      ]
    },
    {
      "cell_type": "code",
      "metadata": {
        "id": "dHmxfsJc2TuO",
        "colab_type": "code",
        "colab": {}
      },
      "source": [
        "model2.save('iamgenette.h5')"
      ],
      "execution_count": 24,
      "outputs": []
    },
    {
      "cell_type": "code",
      "metadata": {
        "id": "mcGQG7pt3SD6",
        "colab_type": "code",
        "colab": {
          "base_uri": "https://localhost:8080/",
          "height": 105
        },
        "outputId": "fe550db2-b77a-4d29-c511-819f48025b20"
      },
      "source": [
        "model2.save('imagenette')"
      ],
      "execution_count": 25,
      "outputs": [
        {
          "output_type": "stream",
          "text": [
            "WARNING:tensorflow:From /usr/local/lib/python3.6/dist-packages/tensorflow/python/ops/resource_variable_ops.py:1817: calling BaseResourceVariable.__init__ (from tensorflow.python.ops.resource_variable_ops) with constraint is deprecated and will be removed in a future version.\n",
            "Instructions for updating:\n",
            "If using Keras pass *_constraint arguments to layers.\n",
            "INFO:tensorflow:Assets written to: imagenette/assets\n"
          ],
          "name": "stdout"
        }
      ]
    },
    {
      "cell_type": "code",
      "metadata": {
        "id": "TYO1jg5Y3U56",
        "colab_type": "code",
        "colab": {}
      },
      "source": [
        ""
      ],
      "execution_count": null,
      "outputs": []
    }
  ]
}